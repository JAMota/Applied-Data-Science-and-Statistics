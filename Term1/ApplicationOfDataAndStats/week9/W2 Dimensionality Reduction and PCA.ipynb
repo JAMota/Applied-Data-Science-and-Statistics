{
 "cells": [
  {
   "cell_type": "markdown",
   "metadata": {},
   "source": [
    "# MTHM503/J - Applications of Data Science and Statistics\n",
    "\n",
    "(c) University of Exeter, May 2021\n",
    "\n",
    "Lecturer: Dr Stefan Siegert [s.siegert@exeter.ac.uk](mailto:s.siegert@exeter.ac.uk)"
   ]
  },
  {
   "cell_type": "markdown",
   "metadata": {},
   "source": [
    "# Week 2 Topic 2: Dimensionality reduction by Principal Component analysis"
   ]
  },
  {
   "cell_type": "markdown",
   "metadata": {},
   "source": [
    "# Dimensionality reduction"
   ]
  },
  {
   "cell_type": "markdown",
   "metadata": {},
   "source": [
    "Dimensionality reduction is the process of reducing large data sets (many numbers) to smaller data sets (fewer numbers), while retaining as much information as possible of the original data set."
   ]
  },
  {
   "cell_type": "markdown",
   "metadata": {},
   "source": [
    "In statistics and machine learning dimensionality reduction is useful to speed up algorithms, improve accuracy of statistical predictions, reduce storage space required, help interpreting results, avoid redundancy and reduce noise."
   ]
  },
  {
   "cell_type": "markdown",
   "metadata": {},
   "source": [
    "## Linear methods"
   ]
  },
  {
   "cell_type": "markdown",
   "metadata": {},
   "source": [
    "Assume data is stored in a vector $\\mathbf{x} = (x_1, x_2, ..., x_p)'$ where $p$ is a large number. A linear transformation of $\\mathbf{x}$ is realised by a matrix multiplication $A\\mathbf{x}$ where $A$ is a matrix with $p$ columns and $k$ rows. If $k < p$ then the result of the transformation $A\\mathbf{x}$ is a new vector of length less than the original.\n",
    "\n",
    "The most extreme case of linear dimensionality reduction is when the matrix $A$ only has a single row, $A = (a_1, a_2, \\dots, a_p)$. The the linear transformation is simply a *weighted sum* of the elements of $\\mathbf{x}$\n",
    "\n",
    "$$y = A\\mathbf{x} = \\sum_{i=1}^p a_i x_i$$\n",
    "\n",
    "One special case of linearly reducing the dimensionality of the vector $\\mathbf{x}$ is to take the average of its elements, which corresponds to the choice $a_i = 1/p$ for $i=1,...,p$.\n",
    "\n",
    "If the linear transformation matrix $A$ has more than $k$ rows, that is\n",
    "\n",
    "$$A = \\left(\\begin{matrix}A_{11} & \\dots & A_{1p}\\\\ \\vdots & & \\vdots\\\\ A_{k1} & \\dots & A_{kp}\\end{matrix}\\right)$$\n",
    "\n",
    "then the resulting vector $\\mathbf{y} = A\\mathbf{x}$ has length $k$ and if $k < p$ the dimensionality has been reduced from $p$ to $k$.\n",
    "\n",
    "Examples of linear methods for dimensionality reduction include:\n",
    "\n",
    "- PCA (principal component analysis): We will cover this method in detail below\n",
    "- Factor analysis\n",
    "- Linear discriminant analysis\n",
    "- Singular value decomposition"
   ]
  },
  {
   "cell_type": "markdown",
   "metadata": {},
   "source": [
    "# Nonlinear methods"
   ]
  },
  {
   "cell_type": "markdown",
   "metadata": {},
   "source": [
    "There are many methods of reducing the dimensionality of a vector $\\mathbf{x}$ in other ways than multiplying it by a matrix. A general form of writing dimensionality reduction is to formulate it as application of a mathematical function, say $\\phi(\\mathbf{x})$ maps from vectors of length $k$ to a new vector of length $k < p$\n",
    "\n",
    "$$\\mathbf{y} = \\phi(\\mathbf{x})$$\n",
    "\n",
    "Nonlinear dimensionality reduction methods include\n",
    "\n",
    "- multidimensional scaling (MDS)\n",
    "- locally linear embedding (LLE)\n",
    "- isometric feature mapping (Isomap)\n",
    "- Auto-encoders\n",
    "\n",
    "and many more. A good popular introduction to these methods is [this blogpost on towardsdatascience.com](https://towardsdatascience.com/dimensionality-reduction-for-machine-learning-80a46c2ebb7e). The freely available online textbook [Elements of Statistical Learning](https://web.stanford.edu/~hastie/ElemStatLearn/) contains detailed mathematical descriptions of many linear and nonlinear dimensionality reduction methods."
   ]
  },
  {
   "cell_type": "markdown",
   "metadata": {},
   "source": [
    "# Principal component analysis"
   ]
  },
  {
   "cell_type": "markdown",
   "metadata": {},
   "source": [
    "Principal component analysis is a dimensionality reduction method to transform a vector $\\mathbf{x}$ of length $p$ to a new vector $\\mathbf{y}$ with fewer elements through a linear transformation, that is\n",
    "\n",
    "$$\\mathbf{y} = A \\mathbf{x}$$\n",
    "\n",
    "The criterion of selecting the linear transformation matrix $A$ is that the elements of $\\mathbf{y}$ are *uncorrelated and have maximum possible variance*. It turns out that these two criteria are enough to uniquely determine the matrix $A$."
   ]
  },
  {
   "cell_type": "markdown",
   "metadata": {},
   "source": [
    "To make these criteria more concrete consider the example where a data set contains $n$ vectors $\\mathbf{x}_1, \\dots, \\mathbf{x}_n$, where each vector is of length $p$.\n",
    "\n",
    "Assume we choose $A$ to have only one row, that is, the transformation is from vectors of length $p$ to scalars (vectors of length 1). The vectors $\\mathbf{x}_1, \\dots, \\mathbf{x}_n$ are transformed to new variables $y_1, \\dots, y_n$. In PCA, the elements of the transformation $A$ are chosen such that the variance\n",
    "\n",
    "$$var(y) = \\frac{1}{n} \\sum_{i=1}^n (y_i - \\bar{y})^2$$\n",
    "\n",
    "is maximised ($\\bar{y}$ is the sample mean)."
   ]
  },
  {
   "cell_type": "markdown",
   "metadata": {},
   "source": [
    "How should we calculate the elements of $A$ such that the variance of $y$ is maximised? It turns out, and we will assert this here without proof, that $A$ should be chosen as the *leading eigenvector* of the sample covariance matrix of $\\mathbf{x}_1, \\dots, \\mathbf{x}_n$. That is, define the $p\\times p$ matrix $S$ with elements\n",
    "\n",
    "$$S_{u,v} = \\frac{1}{n} \\sum_{i=1}^n (x_{i,u} - \\bar{x}_u)(x_{i,v} - \\bar{x}_v)$$\n",
    "\n",
    "where $\\bar{x}_u = \\frac{1}{n}\\sum_{i=1}^n x_{i,u}$ is the sample mean of the $u$-th elements of the vectors $\\mathbf{x}_1, \\dots, \\mathbf{x}_n$.\n"
   ]
  },
  {
   "cell_type": "markdown",
   "metadata": {},
   "source": [
    "If we want to use PCA to reduce the dimensionality of $\\mathbf{x}$ from $p$ to, say, 2, we have to choose the 2 rows of the matrix $A$ as the 2 leading eigenvectors of the sample covariance matrix $S$."
   ]
  },
  {
   "cell_type": "markdown",
   "metadata": {},
   "source": [
    "In general, to reduce dimensionality from $p$ to $k<p$ with PCA, we have to use the $k$ leading eigenvectors of the sample covariance matrix."
   ]
  },
  {
   "cell_type": "markdown",
   "metadata": {},
   "source": [
    "# Handwritten digits recognition"
   ]
  },
  {
   "cell_type": "markdown",
   "metadata": {},
   "source": [
    "The python package scikit-learn contains a data set of handwritten digits that were transformed to 8 by 8 matrices, where each element of the matrix corresponds to a pixel on a 8 by 8 grid and the value of the element indicates a grayscale value.\n",
    "To use the data we have to import the `load_digits` function. We will also import numpy and matplotlib to process and visualise the digits data"
   ]
  },
  {
   "cell_type": "code",
   "execution_count": 1,
   "metadata": {},
   "outputs": [],
   "source": [
    "import numpy as np\n",
    "import pandas as pd\n",
    "from matplotlib import pyplot as plt\n",
    "from sklearn.datasets import load_digits"
   ]
  },
  {
   "cell_type": "code",
   "execution_count": 2,
   "metadata": {},
   "outputs": [],
   "source": [
    "digits = load_digits()"
   ]
  },
  {
   "cell_type": "markdown",
   "metadata": {},
   "source": [
    "## Exploratory data analysis"
   ]
  },
  {
   "cell_type": "markdown",
   "metadata": {},
   "source": [
    "`digits` is a dictionary whose elements contain various parts of the data set:"
   ]
  },
  {
   "cell_type": "code",
   "execution_count": 3,
   "metadata": {},
   "outputs": [
    {
     "data": {
      "text/plain": [
       "dict_keys(['data', 'target', 'frame', 'feature_names', 'target_names', 'images', 'DESCR'])"
      ]
     },
     "execution_count": 3,
     "metadata": {},
     "output_type": "execute_result"
    }
   ],
   "source": [
    "digits.keys()"
   ]
  },
  {
   "cell_type": "markdown",
   "metadata": {},
   "source": [
    "Let us explore the elements `data`, `images` and `target`."
   ]
  },
  {
   "cell_type": "code",
   "execution_count": 4,
   "metadata": {},
   "outputs": [
    {
     "data": {
      "text/plain": [
       "(1797, 8, 8)"
      ]
     },
     "execution_count": 4,
     "metadata": {},
     "output_type": "execute_result"
    }
   ],
   "source": [
    "digits.images.shape"
   ]
  },
  {
   "cell_type": "markdown",
   "metadata": {},
   "source": [
    "`digits.images` is a 3 dimensional array. The first dimension (1797) corresponds to the sample vectors (the individual digits), each of which is saves as an $8\\times 8$ matrix. So lets use `plt.imshow` to plot the first image in the data set:"
   ]
  },
  {
   "cell_type": "code",
   "execution_count": 5,
   "metadata": {
    "scrolled": true
   },
   "outputs": [
    {
     "data": {
      "image/png": "[encoded data removed]",
      "text/plain": [
       "<Figure size 432x288 with 1 Axes>"
      ]
     },
     "metadata": {
      "needs_background": "light"
     },
     "output_type": "display_data"
    }
   ],
   "source": [
    "plt.imshow(digits.images[0,:,:])\n",
    "plt.show()"
   ]
  },
  {
   "cell_type": "markdown",
   "metadata": {},
   "source": [
    "Looks like a zero, doesn't it? The truth (the actual number encoded in the image) is saved in the `target` element of `digits`."
   ]
  },
  {
   "cell_type": "code",
   "execution_count": 6,
   "metadata": {},
   "outputs": [
    {
     "data": {
      "text/plain": [
       "0"
      ]
     },
     "execution_count": 6,
     "metadata": {},
     "output_type": "execute_result"
    }
   ],
   "source": [
    "digits.target[0]"
   ]
  },
  {
   "cell_type": "markdown",
   "metadata": {},
   "source": [
    "Let's try another one:"
   ]
  },
  {
   "cell_type": "code",
   "execution_count": 7,
   "metadata": {},
   "outputs": [
    {
     "data": {
      "image/png": "[encoded data removed]",
      "text/plain": [
       "<Figure size 432x288 with 1 Axes>"
      ]
     },
     "metadata": {
      "needs_background": "light"
     },
     "output_type": "display_data"
    }
   ],
   "source": [
    "plt.imshow(digits.images[100,:,:])\n",
    "plt.show()"
   ]
  },
  {
   "cell_type": "code",
   "execution_count": 8,
   "metadata": {},
   "outputs": [
    {
     "data": {
      "text/plain": [
       "4"
      ]
     },
     "execution_count": 8,
     "metadata": {},
     "output_type": "execute_result"
    }
   ],
   "source": [
    "digits.target[100]"
   ]
  },
  {
   "cell_type": "markdown",
   "metadata": {},
   "source": [
    "This is a four."
   ]
  },
  {
   "cell_type": "markdown",
   "metadata": {},
   "source": [
    "The `data` object of `digits` holds the same data as the `images` object, only represented as a vector of length 64 instead of an 8 by 8 matrix:"
   ]
  },
  {
   "cell_type": "code",
   "execution_count": 9,
   "metadata": {
    "scrolled": true
   },
   "outputs": [
    {
     "data": {
      "text/plain": [
       "array([[ 0.,  0.,  0., 12., 13.,  5.,  0.,  0.],\n",
       "       [ 0.,  0.,  0., 11., 16.,  9.,  0.,  0.],\n",
       "       [ 0.,  0.,  3., 15., 16.,  6.,  0.,  0.],\n",
       "       [ 0.,  7., 15., 16., 16.,  2.,  0.,  0.],\n",
       "       [ 0.,  0.,  1., 16., 16.,  3.,  0.,  0.],\n",
       "       [ 0.,  0.,  1., 16., 16.,  6.,  0.,  0.],\n",
       "       [ 0.,  0.,  1., 16., 16.,  6.,  0.,  0.],\n",
       "       [ 0.,  0.,  0., 11., 16., 10.,  0.,  0.]])"
      ]
     },
     "execution_count": 9,
     "metadata": {},
     "output_type": "execute_result"
    }
   ],
   "source": [
    "digits.images[1,:,:]"
   ]
  },
  {
   "cell_type": "code",
   "execution_count": 10,
   "metadata": {},
   "outputs": [
    {
     "data": {
      "text/plain": [
       "array([ 0.,  0.,  0., 12., 13.,  5.,  0.,  0.,  0.,  0.,  0., 11., 16.,\n",
       "        9.,  0.,  0.,  0.,  0.,  3., 15., 16.,  6.,  0.,  0.,  0.,  7.,\n",
       "       15., 16., 16.,  2.,  0.,  0.,  0.,  0.,  1., 16., 16.,  3.,  0.,\n",
       "        0.,  0.,  0.,  1., 16., 16.,  6.,  0.,  0.,  0.,  0.,  1., 16.,\n",
       "       16.,  6.,  0.,  0.,  0.,  0.,  0., 11., 16., 10.,  0.,  0.])"
      ]
     },
     "execution_count": 10,
     "metadata": {},
     "output_type": "execute_result"
    }
   ],
   "source": [
    "digits.data[1,:]"
   ]
  },
  {
   "cell_type": "markdown",
   "metadata": {},
   "source": [
    "Using the terminology from previous sections, we have 1797 vectors $\\mathbf{x}_1, \\dots, \\mathbf{x}_{1797}$ where each vector has dimension $p=64$."
   ]
  },
  {
   "cell_type": "markdown",
   "metadata": {},
   "source": [
    "## PCA of handwritten digits"
   ]
  },
  {
   "cell_type": "markdown",
   "metadata": {},
   "source": [
    "Let's apply PCA to the digits data and see what we can learn from it."
   ]
  },
  {
   "cell_type": "markdown",
   "metadata": {},
   "source": [
    "To apply PCA, we will have to load the `decompositions` module of scikit learn."
   ]
  },
  {
   "cell_type": "code",
   "execution_count": 11,
   "metadata": {},
   "outputs": [],
   "source": [
    "from sklearn import decomposition"
   ]
  },
  {
   "cell_type": "markdown",
   "metadata": {},
   "source": [
    "\n",
    "Now we can apply PCA by calling `decomposition.PCA`. Let's start with dimensionality reduction to only $k=1$ dimensions. As we did with linear regression, we first initialise a PCA object (specifying the number of reduced dimensions) and then fit it to data:"
   ]
  },
  {
   "cell_type": "code",
   "execution_count": 12,
   "metadata": {},
   "outputs": [],
   "source": [
    "pca = decomposition.PCA(n_components = 1)\n",
    "digits_pca_1 = pca.fit(digits.data)"
   ]
  },
  {
   "cell_type": "markdown",
   "metadata": {},
   "source": [
    "Let's explore the result. The elements of the transformation is saved in the `components_` object:"
   ]
  },
  {
   "cell_type": "code",
   "execution_count": 13,
   "metadata": {
    "scrolled": true
   },
   "outputs": [
    {
     "data": {
      "text/plain": [
       "array([[-7.23303509e-18, -1.73094521e-02, -2.23428824e-01,\n",
       "        -1.35913429e-01, -3.30320859e-02, -9.66339884e-02,\n",
       "        -8.32959717e-03,  2.26894969e-03, -3.20514695e-04,\n",
       "        -1.19308724e-01, -2.44451597e-01,  1.48512519e-01,\n",
       "        -4.67317629e-02, -2.17740646e-01, -1.48139034e-02,\n",
       "         4.47775444e-03, -4.94130832e-05, -7.95416786e-02,\n",
       "         8.33951294e-02,  2.15914965e-01, -1.72126551e-01,\n",
       "        -1.63712175e-01,  2.86442212e-02,  4.23250472e-03,\n",
       "         9.85490027e-05,  6.42321382e-02,  2.54093403e-01,\n",
       "        -3.56774908e-02, -2.09462540e-01, -4.31314391e-02,\n",
       "         5.13116977e-02,  2.13421957e-04,  0.00000000e+00,\n",
       "         1.59951065e-01,  3.68690917e-01,  1.64406838e-01,\n",
       "         8.52010541e-02,  3.72983121e-02,  2.15866552e-02,\n",
       "         0.00000000e+00,  1.28865687e-03,  1.06945409e-01,\n",
       "         3.03067558e-01,  2.47813118e-01,  2.09637420e-01,\n",
       "         1.22327534e-02, -3.69458870e-02,  1.61484100e-03,\n",
       "         6.93022807e-04, -8.35145038e-03, -5.58600071e-02,\n",
       "         9.30532244e-02,  1.07387766e-01, -1.37734413e-01,\n",
       "        -6.32880189e-02,  9.61634171e-04,  9.55080357e-06,\n",
       "        -1.40786773e-02, -2.35675458e-01, -1.41225761e-01,\n",
       "        -9.15958547e-03, -8.94184434e-02, -3.65977897e-02,\n",
       "        -1.14685458e-02]])"
      ]
     },
     "execution_count": 13,
     "metadata": {},
     "output_type": "execute_result"
    }
   ],
   "source": [
    "digits_pca_1.components_"
   ]
  },
  {
   "cell_type": "markdown",
   "metadata": {},
   "source": [
    "The objects `explained_variance_` and `explained_variance_ratio_` show how much of the variance of the original data is explained by the transformed variable:"
   ]
  },
  {
   "cell_type": "code",
   "execution_count": 14,
   "metadata": {},
   "outputs": [
    {
     "data": {
      "text/plain": [
       "array([0.14890594])"
      ]
     },
     "execution_count": 14,
     "metadata": {},
     "output_type": "execute_result"
    }
   ],
   "source": [
    "digits_pca_1.explained_variance_ratio_"
   ]
  },
  {
   "cell_type": "markdown",
   "metadata": {},
   "source": [
    "To actually transform our data, we have to call the `transform` method"
   ]
  },
  {
   "cell_type": "code",
   "execution_count": 15,
   "metadata": {},
   "outputs": [
    {
     "data": {
      "text/plain": [
       "array([[-1.25946899],\n",
       "       [ 7.9576132 ],\n",
       "       [ 6.99192298],\n",
       "       ...,\n",
       "       [10.80128097],\n",
       "       [-4.87210278],\n",
       "       [-0.34439537]])"
      ]
     },
     "execution_count": 15,
     "metadata": {},
     "output_type": "execute_result"
    }
   ],
   "source": [
    "y_1 = digits_pca_1.transform(digits.data)\n",
    "y_1"
   ]
  },
  {
   "cell_type": "markdown",
   "metadata": {},
   "source": [
    "Let's see how well the transformed numbers separate the different digits. We do this by combining the `y` variables with the `target` variable, and construct box plots of `y` after grouping with respect to `target`."
   ]
  },
  {
   "cell_type": "code",
   "execution_count": 16,
   "metadata": {},
   "outputs": [
    {
     "data": {
      "image/png": "[encoded data removed]",
      "text/plain": [
       "<Figure size 432x288 with 1 Axes>"
      ]
     },
     "metadata": {
      "needs_background": "light"
     },
     "output_type": "display_data"
    }
   ],
   "source": [
    "# transform y_1 to a vector of length n\n",
    "y_1 = y_1.reshape(-1)\n",
    "\n",
    "# create a list of arrays, the first array corresponding the y values where target is zero, \n",
    "# the second array where target is one, etc\n",
    "y_grouped = []\n",
    "for ii in range(10):\n",
    "    y_grouped.append(y_1[digits.target == ii])\n",
    "\n",
    "# create a grouped boxplot\n",
    "plt.boxplot(y_grouped, labels=list(range(10)))\n",
    "plt.show()"
   ]
  },
  {
   "cell_type": "markdown",
   "metadata": {},
   "source": [
    "What can we learn from the distribution of $y$ in the different digit groups:\n",
    "\n",
    "- there are big differences in the distributions of $y$ for the different images\n",
    "- PCA weighted sum of a hand written 0,1,5,7,8 produces similarly distributed $y$ values (roughly between -10 and 10, centered on 0)\n",
    "- likewise 2, 3 and 9 produce similarly distributed values, an 4 and 6\n",
    "- if $y$ is below 0 we can be virtually sure that the image doesn't show a 4, and if $y$ is above zero it's almost surely not a 3\n",
    "\n",
    "By dimensionality reduction through PCA we learn something about similarities and differences between handwritten images. Also, the differences between the distributions would surely be useful for automated recognition of handwritten digits from their image data."
   ]
  },
  {
   "cell_type": "markdown",
   "metadata": {},
   "source": [
    "## 2-dimensional PCA"
   ]
  },
  {
   "cell_type": "markdown",
   "metadata": {},
   "source": [
    "Let's now use PCA to reduce the 64 dimensional data to 2 dimensions."
   ]
  },
  {
   "cell_type": "code",
   "execution_count": 17,
   "metadata": {},
   "outputs": [],
   "source": [
    "pca = decomposition.PCA(n_components = 2)\n",
    "digits_pca_2 = pca.fit(digits.data)\n",
    "y_2 = digits_pca_2.transform(digits.data)"
   ]
  },
  {
   "cell_type": "code",
   "execution_count": 18,
   "metadata": {},
   "outputs": [
    {
     "data": {
      "text/plain": [
       "array([[ -1.25946647,  21.27488281],\n",
       "       [  7.95761147, -20.76869928],\n",
       "       [  6.99192289,  -9.95598551],\n",
       "       ...,\n",
       "       [ 10.80128364,  -6.96025262],\n",
       "       [ -4.8721    ,  12.42395462],\n",
       "       [ -0.34438982,   6.36554936]])"
      ]
     },
     "execution_count": 18,
     "metadata": {},
     "output_type": "execute_result"
    }
   ],
   "source": [
    "y_2"
   ]
  },
  {
   "cell_type": "markdown",
   "metadata": {},
   "source": [
    "Now each image has been transformed into a pair of 2 numbers, which we can visualise as points in the 2-d plane. Let's put these points on a scatter plot and color them by the number that they represent."
   ]
  },
  {
   "cell_type": "code",
   "execution_count": 19,
   "metadata": {},
   "outputs": [
    {
     "data": {
      "image/png": "[encoded data removed]",
      "text/plain": [
       "<Figure size 720x720 with 1 Axes>"
      ]
     },
     "metadata": {
      "needs_background": "light"
     },
     "output_type": "display_data"
    }
   ],
   "source": [
    "plt.figure(figsize=[10,10])\n",
    "for ii in range(10):\n",
    "    plt.scatter(y_2[digits.target == ii, 0], \n",
    "                y_2[digits.target == ii, 1], \n",
    "                label=ii)\n",
    "plt.legend()\n",
    "plt.show()\n",
    "    "
   ]
  },
  {
   "cell_type": "markdown",
   "metadata": {},
   "source": [
    "The 2-dimensional PCA has further separated the different digits into separate clusters. That is images that show the same number are more similar to each other than to images that show a different number. Especially zeroes seem to be very well separated from the other numbers in this 2-d representation. Fours and sixes form a cluster that is separated from the other numbers. Threes, nines and fives overlap but, as a cluster, are separated from the other numbers.\n",
    "\n",
    "In general, we can expect that a machine learning algorithm that uses the 2-d PCA transformations might do better at predicting the true label than based on the 1-d PCA transformation."
   ]
  },
  {
   "cell_type": "markdown",
   "metadata": {},
   "source": [
    "## Training a machine learning model to recognise handwritten digits"
   ]
  },
  {
   "cell_type": "markdown",
   "metadata": {},
   "source": [
    "Predicting a label (the digit) based on continuous data is a classification problem. One of the simplest classification algorithms is logistic regression.\n",
    "\n",
    "Logistic regression takes in a number of covariates and outputs a probability. While linear regression outputs a value between minus and plus infinity, logistic regression outputs a value between 0 and 1, and can thus be used to assign probabilities to class labels."
   ]
  },
  {
   "cell_type": "markdown",
   "metadata": {},
   "source": [
    "Logistic regression models are trained on target $y_1, \\dots, y_n$ each of which is either 0 or 1. The inputs to a logistic regression model are as for linear regression, i.e. a design matrix $X$ with $n$ rows and number of columns equal to the number of predictors. Mathematically, the linear superposition of the elements in the $i$-th row of the design matrix $X$ is equated to the *log-odds ratio* of the probability $p_i$ that $y_i$ is equal to one\n",
    "\n",
    "$$\\log\\frac{p_i}{1-p_i} = \\beta_0 + \\beta_1 X_{i,1} + \\dots + \\beta_p X_{i,p}$$\n",
    "\n",
    "or equivalently, after defining the $i$-th linear response as $\\eta_i = \\beta_0 + \\beta_1 X_{i,1} + \\dots + X_{i,p}$ we have\n",
    "\n",
    "$$P(y_i = 1) = p_i = \\frac{e^{\\eta_i}}{1 + e^{\\eta_i}}$$\n",
    "\n",
    "There is no simple analytic solution for the model coefficients $\\beta_0, \\dots, \\beta_p$ and numerical techniques have to be used to estimate them.\n",
    "\n",
    "Scikit-learn has a logistic regression module to train and predict class labels (like the number shown in an image) based on covariates (such as the first couple of principal components of the pixel maps of the hand-written images). The standard `predict` function of the logistic regression method returns the class label with the highest probability."
   ]
  },
  {
   "cell_type": "code",
   "execution_count": 20,
   "metadata": {},
   "outputs": [],
   "source": [
    "# import and initialise logistic regression, need to increase \n",
    "# max_iter to ensure convergence\n",
    "from sklearn.linear_model import LogisticRegression\n",
    "logreg = LogisticRegression(max_iter = 1000)\n",
    "# initialise, fit, and transform digit images with PCA (2 components)\n",
    "pca = decomposition.PCA(n_components = 2)\n",
    "digits_pca = pca.fit(digits.data)\n",
    "X = digits_pca.transform(digits.data)\n",
    "# class labels\n",
    "y = digits.target\n",
    "# fit logistic regression model and predict the most likely class for each case\n",
    "logreg_digits = logreg.fit(X,y)\n",
    "y_fit = logreg_digits.predict(X)\n",
    "\n"
   ]
  },
  {
   "cell_type": "markdown",
   "metadata": {},
   "source": [
    "`y_fit` is an array of most likely class inferred from the first 2 principal components of the 8 by 8 image:"
   ]
  },
  {
   "cell_type": "code",
   "execution_count": 21,
   "metadata": {},
   "outputs": [
    {
     "data": {
      "text/plain": [
       "array([0, 1, 1, ..., 1, 5, 5])"
      ]
     },
     "execution_count": 21,
     "metadata": {},
     "output_type": "execute_result"
    }
   ],
   "source": [
    "y_fit"
   ]
  },
  {
   "cell_type": "markdown",
   "metadata": {},
   "source": [
    "Now we may calculate the accuracy of the classifications, i.e., the fraction of cases where the true label was correctly predicted by the logistic regression classifier:"
   ]
  },
  {
   "cell_type": "code",
   "execution_count": 22,
   "metadata": {},
   "outputs": [
    {
     "data": {
      "text/plain": [
       "0.6110183639398998"
      ]
     },
     "execution_count": 22,
     "metadata": {},
     "output_type": "execute_result"
    }
   ],
   "source": [
    "np.mean(y == y_fit)"
   ]
  },
  {
   "cell_type": "markdown",
   "metadata": {},
   "source": [
    "If we were to randomly guess the labels, we would get an accuracy by chance of about one in 10, or 0.1. Using the first 2 principal components, we are able to correctly identify over 60% of digits."
   ]
  },
  {
   "cell_type": "markdown",
   "metadata": {},
   "source": [
    "Let's also explore how logistic regression maps from the 2 dimensional input space to the class labels. To do this, we use the fitted logistic regression model to predict the class label for each point on a 2-dimensional grid."
   ]
  },
  {
   "cell_type": "code",
   "execution_count": 23,
   "metadata": {},
   "outputs": [],
   "source": [
    "n_grid = 1000\n",
    "vals = np.linspace(-40, 40, n_grid)\n",
    "grid_vals = np.repeat(vals, n_grid)\n",
    "xx = grid_vals\n",
    "yy = grid_vals.reshape(n_grid, n_grid).transpose().reshape(-1)\n",
    "X_grid = np.stack([xx, yy], axis=1)\n",
    "y_grid = logreg_digits.predict(X_grid)"
   ]
  },
  {
   "cell_type": "code",
   "execution_count": 24,
   "metadata": {},
   "outputs": [
    {
     "data": {
      "text/plain": [
       "array([3, 3, 3, ..., 6, 6, 6])"
      ]
     },
     "execution_count": 24,
     "metadata": {},
     "output_type": "execute_result"
    }
   ],
   "source": [
    "y_grid"
   ]
  },
  {
   "cell_type": "code",
   "execution_count": 25,
   "metadata": {},
   "outputs": [
    {
     "data": {
      "image/png": "[encoded data removed]",
      "text/plain": [
       "<Figure size 432x288 with 2 Axes>"
      ]
     },
     "metadata": {
      "needs_background": "light"
     },
     "output_type": "display_data"
    }
   ],
   "source": [
    "plt.imshow(y_grid.reshape(n_grid, n_grid).transpose(), \n",
    "           origin='lower', cmap='tab10',\n",
    "           extent=[-40,40,-40,40])\n",
    "plt.colorbar()\n",
    "plt.show()"
   ]
  },
  {
   "cell_type": "markdown",
   "metadata": {},
   "source": [
    "This map shows for each combination of 1st and 2nd principal component what the most likely label is. So you could given me any 8 by 8 pixel image now, I can calculate the linear transformation using the 2 principal components which returns two numbers that correspond to a point in the 2d plane. The color of that location indicates the most likely label according to logistic regression.\n",
    "\n",
    "Of course, these predictions are not 100% accurate but only 61% accurate. Especially in the middle there is a lot of ambiguity and many images will likely be mis-classified.\n",
    "\n",
    "Another point worth mentioning is that it was not guaranteed that each of the 10 possible classes appears in the color map. For example it might have happened that the number 8, say, is not the most likely class label for any combination of x and y value."
   ]
  }
 ],
 "metadata": {
  "kernelspec": {
   "display_name": "Python 3 (ipykernel)",
   "language": "python",
   "name": "python3"
  },
  "language_info": {
   "codemirror_mode": {
    "name": "ipython",
    "version": 3
   },
   "file_extension": ".py",
   "mimetype": "text/x-python",
   "name": "python",
   "nbconvert_exporter": "python",
   "pygments_lexer": "ipython3",
   "version": "3.9.13"
  }
 },
 "nbformat": 4,
 "nbformat_minor": 4
}
