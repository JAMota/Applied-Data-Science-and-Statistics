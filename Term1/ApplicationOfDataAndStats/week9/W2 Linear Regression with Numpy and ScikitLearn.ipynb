{
 "cells": [
  {
   "cell_type": "markdown",
   "metadata": {},
   "source": [
    "# MTHM503J Week 2: Linear Regression\n",
    "\n",
    "# Implementing simple linear regression with numpy and with scikit-learn on simulated data"
   ]
  },
  {
   "cell_type": "markdown",
   "metadata": {},
   "source": [
    "## Linear regression from scratch with numpy"
   ]
  },
  {
   "cell_type": "code",
   "execution_count": 1,
   "metadata": {},
   "outputs": [],
   "source": [
    "import numpy as np\n",
    "from matplotlib import pyplot as plt"
   ]
  },
  {
   "cell_type": "markdown",
   "metadata": {},
   "source": [
    "### Simulate inputs"
   ]
  },
  {
   "cell_type": "markdown",
   "metadata": {},
   "source": [
    "Simulate inputs $x_1, \\dots, x_n$ from standard Normal distribution as a column vector, i.e. a matrix with 1 column and $n$ rows:"
   ]
  },
  {
   "cell_type": "code",
   "execution_count": 2,
   "metadata": {},
   "outputs": [],
   "source": [
    "np.random.seed(123) # make it reproducible\n",
    "n = 20 # sample size\n",
    "x = np.random.normal(size=(n,1))"
   ]
  },
  {
   "cell_type": "markdown",
   "metadata": {},
   "source": [
    "### Simulate outputs"
   ]
  },
  {
   "cell_type": "markdown",
   "metadata": {},
   "source": [
    "Simulate outputs as $$y_i = 1 + 0.5 x_i + \\epsilon_i$$ where $\\epsilon_i$ has a Normal distribution with mean zero and standard deviation $0.2$:"
   ]
  },
  {
   "cell_type": "code",
   "execution_count": 3,
   "metadata": {},
   "outputs": [],
   "source": [
    "e = np.random.normal(loc=0, scale=0.2, size=x.shape)\n",
    "y = 1 + 0.5 * x + e"
   ]
  },
  {
   "cell_type": "code",
   "execution_count": 4,
   "metadata": {
    "scrolled": true
   },
   "outputs": [
    {
     "data": {
      "image/png": "[encoded data removed]",
      "text/plain": [
       "<Figure size 640x480 with 1 Axes>"
      ]
     },
     "metadata": {},
     "output_type": "display_data"
    }
   ],
   "source": [
    "plt.plot(x, y, 'o')\n",
    "plt.xlabel('input x')\n",
    "plt.ylabel('output y')\n",
    "plt.show()"
   ]
  },
  {
   "cell_type": "markdown",
   "metadata": {},
   "source": [
    "The data was simulated as a linear regression with parameters $\\beta_0 = 1$ and $\\beta_1 = 0.5$. Our goal will be to estimate these parameters from the simulated $x$ and $y$ values using least squares estimation."
   ]
  },
  {
   "cell_type": "markdown",
   "metadata": {},
   "source": [
    "## Estimate the regression coefficients by least squares"
   ]
  },
  {
   "cell_type": "markdown",
   "metadata": {},
   "source": [
    "Let $y$ be the vector of length $n$ that contains the outputs $y_1, \\dots, y_n$. Let $X$ be a matrix with $n$ rows and 2 columns, whose first column consists only of ones, and whose second column contains the simulated inputs $x_1, \\dots, x_n$.\n",
    "\n",
    "For a given vector of coefficients $\\beta = (\\beta_0, \\beta_1)'$, the sum of squared residuals between the true outputs $y$ and the fitted values $X\\beta$ is given by\n",
    "\n",
    "$$RSS = (y - X\\beta)'(y - X\\beta)$$\n",
    "\n",
    "Setting the derivative of RSS w.r.t. $\\beta$ to 0 yields the system of equations for the estimated coefficients $\\hat\\beta$ given by\n",
    "\n",
    "$$X'X\\hat\\beta = X'y$$\n",
    "\n",
    "from which the usual least squares estimators of $\\beta$ can be derived as\n",
    "\n",
    "$$\\hat\\beta = (X'X)^{-1}X'y$$."
   ]
  },
  {
   "cell_type": "markdown",
   "metadata": {},
   "source": [
    "To calculate $\\hat\\beta$ we first create the design matrix $X$ by combining a column of ones and the vector $x$:"
   ]
  },
  {
   "cell_type": "code",
   "execution_count": 5,
   "metadata": {},
   "outputs": [
    {
     "data": {
      "text/plain": [
       "array([[ 1.        , -1.0856306 ],\n",
       "       [ 1.        ,  0.99734545],\n",
       "       [ 1.        ,  0.2829785 ],\n",
       "       [ 1.        , -1.50629471],\n",
       "       [ 1.        , -0.57860025],\n",
       "       [ 1.        ,  1.65143654],\n",
       "       [ 1.        , -2.42667924],\n",
       "       [ 1.        , -0.42891263],\n",
       "       [ 1.        ,  1.26593626],\n",
       "       [ 1.        , -0.8667404 ],\n",
       "       [ 1.        , -0.67888615],\n",
       "       [ 1.        , -0.09470897],\n",
       "       [ 1.        ,  1.49138963],\n",
       "       [ 1.        , -0.638902  ],\n",
       "       [ 1.        , -0.44398196],\n",
       "       [ 1.        , -0.43435128],\n",
       "       [ 1.        ,  2.20593008],\n",
       "       [ 1.        ,  2.18678609],\n",
       "       [ 1.        ,  1.0040539 ],\n",
       "       [ 1.        ,  0.3861864 ]])"
      ]
     },
     "execution_count": 5,
     "metadata": {},
     "output_type": "execute_result"
    }
   ],
   "source": [
    "# create design matrix X by combining x and a column vector of 1s\n",
    "X = np.hstack([np.ones([n,1]), x])\n",
    "X"
   ]
  },
  {
   "cell_type": "code",
   "execution_count": 6,
   "metadata": {},
   "outputs": [
    {
     "data": {
      "text/plain": [
       "array([[ 0.60465841],\n",
       "       [ 1.79681913],\n",
       "       [ 0.95432248],\n",
       "       [ 0.48201845],\n",
       "       [ 0.45992374],\n",
       "       [ 1.69816797],\n",
       "       [-0.03191858],\n",
       "       [ 0.49980755],\n",
       "       [ 1.60495439],\n",
       "       [ 0.39427882],\n",
       "       [ 0.60943305],\n",
       "       [ 0.39292769],\n",
       "       [ 1.39138819],\n",
       "       [ 0.54057355],\n",
       "       [ 0.96350151],\n",
       "       [ 0.74809723],\n",
       "       [ 2.10353422],\n",
       "       [ 2.23103759],\n",
       "       [ 1.32611968],\n",
       "       [ 1.24981866]])"
      ]
     },
     "execution_count": 6,
     "metadata": {},
     "output_type": "execute_result"
    }
   ],
   "source": [
    "y"
   ]
  },
  {
   "cell_type": "markdown",
   "metadata": {},
   "source": [
    "When coding the least squares estimating equation, it is tempting to first explicitly calculate the matrix inverse $(X'X)^{-1}$ using `np.linalg.inv`, and then multiplying this inverse by  $X'y$. However, this is inefficient, especially in settings where the number of predictors $p$ is large. \n",
    "\n",
    "The more efficient implementation is to solve the system of equations $X'X\\beta = X'y$ for $\\beta$ using the numpy function `np.linalg.solve`. This approach is $p$ times faster than calculating the explicit matrix inverse."
   ]
  },
  {
   "cell_type": "code",
   "execution_count": 7,
   "metadata": {},
   "outputs": [],
   "source": [
    "XtX = np.matmul(X.transpose(), X)\n",
    "Xty = np.matmul(X.transpose(), y)\n",
    "beta_hat = np.linalg.solve(XtX, Xty) # linalg.solve(A,b) returns x such that Ax = b"
   ]
  },
  {
   "cell_type": "code",
   "execution_count": 8,
   "metadata": {},
   "outputs": [
    {
     "data": {
      "text/plain": [
       "array([[0.94636006],\n",
       "       [0.47731346]])"
      ]
     },
     "execution_count": 8,
     "metadata": {},
     "output_type": "execute_result"
    }
   ],
   "source": [
    "beta_hat"
   ]
  },
  {
   "cell_type": "markdown",
   "metadata": {},
   "source": [
    "The true parameters that were used to simulate the $y$ data were $\\beta_0 = 1$ and $\\beta_1 = 0.5$, so the estimated values are reasonably close to the true ones."
   ]
  },
  {
   "cell_type": "markdown",
   "metadata": {},
   "source": [
    "### Predict $y$ at new input values"
   ]
  },
  {
   "cell_type": "markdown",
   "metadata": {},
   "source": [
    "Let's say I want to use the fitted parameters to predict $y$ at the input values $(-1, 0, 0.5, 1)$."
   ]
  },
  {
   "cell_type": "code",
   "execution_count": 9,
   "metadata": {},
   "outputs": [
    {
     "data": {
      "text/plain": [
       "array([[ 1. , -1. ],\n",
       "       [ 1. ,  0. ],\n",
       "       [ 1. ,  0.5],\n",
       "       [ 1. ,  1. ]])"
      ]
     },
     "execution_count": 9,
     "metadata": {},
     "output_type": "execute_result"
    }
   ],
   "source": [
    "x_new = np.array([-1, 0, 0.5, 1])\n",
    "# create design matrix for new input values in one line using\n",
    "# np.stack() and np.ones_like()\n",
    "X_new = np.stack([np.ones_like(x_new), x_new], axis=1)\n",
    "X_new"
   ]
  },
  {
   "cell_type": "markdown",
   "metadata": {},
   "source": [
    "Use the fitted parameters to predict $y$ for these inputs:"
   ]
  },
  {
   "cell_type": "code",
   "execution_count": 10,
   "metadata": {},
   "outputs": [
    {
     "data": {
      "text/plain": [
       "array([[0.4690466 ],\n",
       "       [0.94636006],\n",
       "       [1.18501679],\n",
       "       [1.42367352]])"
      ]
     },
     "execution_count": 10,
     "metadata": {},
     "output_type": "execute_result"
    }
   ],
   "source": [
    "y_new = np.matmul(X_new, beta_hat)\n",
    "y_new"
   ]
  },
  {
   "cell_type": "markdown",
   "metadata": {},
   "source": [
    "### Plot the fitted regression line"
   ]
  },
  {
   "cell_type": "markdown",
   "metadata": {},
   "source": [
    "To visualise the entire regression line, we predict $y$ for a range of $x$ values and then plot them against each other."
   ]
  },
  {
   "cell_type": "code",
   "execution_count": 11,
   "metadata": {},
   "outputs": [],
   "source": [
    "x_ran = np.linspace(-3, 3, 100)\n",
    "X_ran = np.stack([np.ones_like(x_ran), x_ran], axis=1)\n",
    "y_pred = np.matmul(X_ran, beta_hat)"
   ]
  },
  {
   "cell_type": "markdown",
   "metadata": {},
   "source": [
    "We also include the regression line using the true parameter values."
   ]
  },
  {
   "cell_type": "code",
   "execution_count": 12,
   "metadata": {},
   "outputs": [],
   "source": [
    "beta_true = np.array([1, 0.5]).reshape(2,1)\n",
    "y_true = np.matmul(X_ran, beta_true)"
   ]
  },
  {
   "cell_type": "code",
   "execution_count": 13,
   "metadata": {},
   "outputs": [
    {
     "data": {
      "image/png": "[encoded data removed]",
      "text/plain": [
       "<Figure size 432x288 with 1 Axes>"
      ]
     },
     "metadata": {
      "needs_background": "light"
     },
     "output_type": "display_data"
    }
   ],
   "source": [
    "plt.plot(x,y,'o', label='data')\n",
    "plt.plot(x_ran, y_pred, '-', label='estimate')\n",
    "plt.plot(x_ran, y_true, '--k', label='true')\n",
    "plt.legend()\n",
    "plt.show()"
   ]
  },
  {
   "cell_type": "markdown",
   "metadata": {},
   "source": [
    "## Linear regression with scikitlearn"
   ]
  },
  {
   "cell_type": "markdown",
   "metadata": {},
   "source": [
    "Import the linear regression module from the `scikit-learn` package"
   ]
  },
  {
   "cell_type": "code",
   "execution_count": 14,
   "metadata": {},
   "outputs": [],
   "source": [
    "from sklearn.linear_model import LinearRegression"
   ]
  },
  {
   "cell_type": "markdown",
   "metadata": {},
   "source": [
    "Initialise a linear regression object:"
   ]
  },
  {
   "cell_type": "code",
   "execution_count": 15,
   "metadata": {},
   "outputs": [],
   "source": [
    "lr = LinearRegression()"
   ]
  },
  {
   "cell_type": "markdown",
   "metadata": {},
   "source": [
    "Use the object `lr` to fit a regression model using the previously simulated training data in `x` and `y`. There is no need to add a column of ones, since the intercept will be estimated automatically."
   ]
  },
  {
   "cell_type": "code",
   "execution_count": 16,
   "metadata": {},
   "outputs": [],
   "source": [
    "lr_fit = lr.fit(x.reshape(n,1), y)"
   ]
  },
  {
   "cell_type": "markdown",
   "metadata": {},
   "source": [
    "### Extract parameter estimates"
   ]
  },
  {
   "cell_type": "markdown",
   "metadata": {},
   "source": [
    "The fitted regression coefficient are stored in the `lr_fit` object and can be extracted with"
   ]
  },
  {
   "cell_type": "code",
   "execution_count": 17,
   "metadata": {},
   "outputs": [
    {
     "data": {
      "text/plain": [
       "array([[0.47731346]])"
      ]
     },
     "execution_count": 17,
     "metadata": {},
     "output_type": "execute_result"
    }
   ],
   "source": [
    "lr_fit.coef_"
   ]
  },
  {
   "cell_type": "markdown",
   "metadata": {},
   "source": [
    "To extract the fitted intercept use"
   ]
  },
  {
   "cell_type": "code",
   "execution_count": 18,
   "metadata": {},
   "outputs": [
    {
     "data": {
      "text/plain": [
       "array([0.94636006])"
      ]
     },
     "execution_count": 18,
     "metadata": {},
     "output_type": "execute_result"
    }
   ],
   "source": [
    "lr_fit.intercept_"
   ]
  },
  {
   "cell_type": "markdown",
   "metadata": {},
   "source": [
    "It's not surprising, but still reassuring, that the parameter estimates obtained from scikit-learn are identical to the ones we have obtained using only numpy functions."
   ]
  },
  {
   "cell_type": "markdown",
   "metadata": {},
   "source": [
    "### Predict new values"
   ]
  },
  {
   "cell_type": "markdown",
   "metadata": {},
   "source": [
    "We use the same values `x_new` as before to predict `y` using the built-in scikit-learn function. We do not have to provide a column of ones to multiply the intercept, `lr_fit.predict` knows that the intercept has to be added. But we have to provide the inputs as a matrix with number of columns equal to the number of inputs in the model (namely `p=1`):"
   ]
  },
  {
   "cell_type": "code",
   "execution_count": 19,
   "metadata": {},
   "outputs": [
    {
     "data": {
      "text/plain": [
       "array([[0.4690466 ],\n",
       "       [0.94636006],\n",
       "       [1.18501679],\n",
       "       [1.42367352]])"
      ]
     },
     "execution_count": 19,
     "metadata": {},
     "output_type": "execute_result"
    }
   ],
   "source": [
    "lr_fit.predict(x_new.reshape(-1,1))"
   ]
  },
  {
   "cell_type": "markdown",
   "metadata": {},
   "source": [
    "And now we predict `y` for all values in `x_ran` so we can plot the regression line as before:"
   ]
  },
  {
   "cell_type": "code",
   "execution_count": 20,
   "metadata": {},
   "outputs": [],
   "source": [
    "y_pred = lr_fit.predict(x_ran.reshape(-1,1))"
   ]
  },
  {
   "cell_type": "code",
   "execution_count": 21,
   "metadata": {},
   "outputs": [
    {
     "data": {
      "image/png": "[encoded data removed]",
      "text/plain": [
       "<Figure size 432x288 with 1 Axes>"
      ]
     },
     "metadata": {
      "needs_background": "light"
     },
     "output_type": "display_data"
    }
   ],
   "source": [
    "plt.plot(x,y,'o', label='data')\n",
    "plt.plot(x_ran, y_pred, '-', label='estimate')\n",
    "plt.plot(x_ran, y_true, '--k', label='true')\n",
    "plt.legend()\n",
    "plt.show()"
   ]
  },
  {
   "cell_type": "markdown",
   "metadata": {},
   "source": [
    "### General patterns when working with scikit-learn\n",
    "\n",
    "- input data are provided as a **feature matrix**, i.e. as a matrix whose rows are cases, or observations, and whose columns correspond to the different input variables, also referred to as features\n",
    "- target data are provided as an array whose length is equal to the number of rows in the feature matrix (can also be a pandas.Series)"
   ]
  },
  {
   "attachments": {
    "05.02-samples-features.png": {
     "image/png": "[encoded data removed]"
    }
   },
   "cell_type": "markdown",
   "metadata": {},
   "source": [
    "![05.02-samples-features.png](attachment:05.02-samples-features.png)"
   ]
  },
  {
   "cell_type": "markdown",
   "metadata": {},
   "source": [
    "- invoking scikit-learn starts by choosing a class of model (`linear_model` in our case) and the estimator class (`LinearRegression`)\n",
    "- often we will have to specify hyperparameters, parameters that control the general behavior of the model, e.g. convergence tolerances, number of iteration, penalty parameters\n",
    "- after initialising the model class, we call the `fit()` method\n",
    "- to apply the model to new data, for prediction or exploration, we call the `predict()` method"
   ]
  },
  {
   "cell_type": "markdown",
   "metadata": {},
   "source": [
    "# Using a different machine learning method"
   ]
  },
  {
   "cell_type": "markdown",
   "metadata": {},
   "source": [
    "With its consistent interface Scikit-learn makes it easy to swap one machine learning method for another one. In this section we will apply Nearest neighbors regression to our training data instead of linear regression. All regression methods provided by scikit-learn can be viewed on the [scikit-learn website](https://scikit-learn.org/stable/index.html). The example given here is based on the [scikit-learn Nearest Neighbors regression example](https://scikit-learn.org/stable/auto_examples/neighbors/plot_regression.html)."
   ]
  },
  {
   "cell_type": "markdown",
   "metadata": {},
   "source": [
    "First we have to import the correct submodule of `sklearn`:"
   ]
  },
  {
   "cell_type": "code",
   "execution_count": 22,
   "metadata": {},
   "outputs": [],
   "source": [
    "from sklearn import neighbors"
   ]
  },
  {
   "cell_type": "markdown",
   "metadata": {},
   "source": [
    "Then (as with linear regression) we initialise the model object, and use the `fit` function to train the model."
   ]
  },
  {
   "cell_type": "code",
   "execution_count": 23,
   "metadata": {},
   "outputs": [],
   "source": [
    "knn = neighbors.KNeighborsRegressor()\n",
    "knn_fit = knn.fit(x.reshape(-1,1), y)"
   ]
  },
  {
   "cell_type": "markdown",
   "metadata": {},
   "source": [
    "Now we can use the `predict` function to predict the target variable `y` at new `x` values:"
   ]
  },
  {
   "cell_type": "code",
   "execution_count": 24,
   "metadata": {},
   "outputs": [
    {
     "data": {
      "text/plain": [
       "array([[0.52177352],\n",
       "       [0.76899472],\n",
       "       [1.14400153],\n",
       "       [1.47382001]])"
      ]
     },
     "execution_count": 24,
     "metadata": {},
     "output_type": "execute_result"
    }
   ],
   "source": [
    "knn_fit.predict(x_new.reshape(-1,1))"
   ]
  },
  {
   "cell_type": "markdown",
   "metadata": {},
   "source": [
    "To visualise the shape of the fitted function, we apply `predict` to a whole range of `x` values as before:"
   ]
  },
  {
   "cell_type": "code",
   "execution_count": 25,
   "metadata": {},
   "outputs": [
    {
     "data": {
      "image/png": "[encoded data removed]",
      "text/plain": [
       "<Figure size 432x288 with 1 Axes>"
      ]
     },
     "metadata": {
      "needs_background": "light"
     },
     "output_type": "display_data"
    }
   ],
   "source": [
    "y_ran = knn_fit.predict(x_ran.reshape(-1,1))\n",
    "plt.plot(x,y,'o', label='data')\n",
    "plt.plot(x_ran, y_ran, '-', label='NN regression fit')\n",
    "plt.legend()\n",
    "plt.show()"
   ]
  },
  {
   "cell_type": "markdown",
   "metadata": {},
   "source": [
    "The fitted function looks quite different from the fitted function we got from linear regression. It seems nearest neighbor regression can fit more complicated, non-linear relationships. The smoothness of the fitted curve can be controlled by the input parameters of `neighbors.KNeighborsRegressor()`, in particular the arguments `n_neighbors` and `weights`."
   ]
  }
 ],
 "metadata": {
  "kernelspec": {
   "display_name": "Python 3 (ipykernel)",
   "language": "python",
   "name": "python3"
  },
  "language_info": {
   "codemirror_mode": {
    "name": "ipython",
    "version": 3
   },
   "file_extension": ".py",
   "mimetype": "text/x-python",
   "name": "python",
   "nbconvert_exporter": "python",
   "pygments_lexer": "ipython3",
   "version": "3.9.13"
  }
 },
 "nbformat": 4,
 "nbformat_minor": 4
}
