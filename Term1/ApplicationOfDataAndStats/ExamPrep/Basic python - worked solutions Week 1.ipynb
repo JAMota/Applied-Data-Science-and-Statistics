{
 "cells": [
  {
   "cell_type": "markdown",
   "metadata": {},
   "source": [
    "# Basic python questions"
   ]
  },
  {
   "cell_type": "markdown",
   "metadata": {},
   "source": [
    "## Beginner"
   ]
  },
  {
   "cell_type": "markdown",
   "metadata": {},
   "source": [
    "Create a list with the integers from 1 to 5."
   ]
  },
  {
   "cell_type": "code",
   "execution_count": 1,
   "metadata": {},
   "outputs": [
    {
     "data": {
      "text/plain": [
       "[1, 2, 3, 4, 5]"
      ]
     },
     "execution_count": 1,
     "metadata": {},
     "output_type": "execute_result"
    }
   ],
   "source": [
    "[1, 2, 3, 4, 5]"
   ]
  },
  {
   "cell_type": "markdown",
   "metadata": {},
   "source": [
    "Create a list with the integers from 1 to 1000."
   ]
  },
  {
   "cell_type": "code",
   "execution_count": 1,
   "metadata": {
    "collapsed": true
   },
   "outputs": [],
   "source": [
    "lst = list(range(1001))\n",
    "# print(lst)"
   ]
  },
  {
   "cell_type": "markdown",
   "metadata": {},
   "source": [
    "Create a list with the even integers from 1 to 1000."
   ]
  },
  {
   "cell_type": "code",
   "execution_count": 2,
   "metadata": {
    "collapsed": true
   },
   "outputs": [],
   "source": [
    "lst = list(range(1001))[::2]\n",
    "# print(lst)"
   ]
  },
  {
   "cell_type": "markdown",
   "metadata": {},
   "source": [
    "How do you calculate $42^{23}$ in python?"
   ]
  },
  {
   "cell_type": "code",
   "execution_count": 4,
   "metadata": {},
   "outputs": [
    {
     "data": {
      "text/plain": [
       "21613926941579800829422581272845221888"
      ]
     },
     "execution_count": 4,
     "metadata": {},
     "output_type": "execute_result"
    }
   ],
   "source": [
    "42 ** 23"
   ]
  },
  {
   "cell_type": "markdown",
   "metadata": {},
   "source": [
    "How do you determine the length of a list?"
   ]
  },
  {
   "cell_type": "code",
   "execution_count": 5,
   "metadata": {},
   "outputs": [
    {
     "data": {
      "text/plain": [
       "10"
      ]
     },
     "execution_count": 5,
     "metadata": {},
     "output_type": "execute_result"
    }
   ],
   "source": [
    "lst = list(range(10))\n",
    "len(lst)"
   ]
  },
  {
   "cell_type": "markdown",
   "metadata": {},
   "source": [
    "How do you reverse a list?"
   ]
  },
  {
   "cell_type": "code",
   "execution_count": 6,
   "metadata": {},
   "outputs": [
    {
     "data": {
      "text/plain": [
       "[9, 8, 7, 6, 5, 4, 3, 2, 1, 0]"
      ]
     },
     "execution_count": 6,
     "metadata": {},
     "output_type": "execute_result"
    }
   ],
   "source": [
    "lst[::-1]"
   ]
  },
  {
   "cell_type": "code",
   "execution_count": 7,
   "metadata": {},
   "outputs": [
    {
     "name": "stdout",
     "output_type": "stream",
     "text": [
      "[9, 8, 7, 6, 5, 4, 3, 2, 1, 0]\n"
     ]
    }
   ],
   "source": [
    "lst.reverse()\n",
    "print(lst)"
   ]
  },
  {
   "cell_type": "markdown",
   "metadata": {},
   "source": [
    "Use string addition and multiplication to create the string \n",
    "*'nanananananananana, batman!'*"
   ]
  },
  {
   "cell_type": "code",
   "execution_count": 8,
   "metadata": {},
   "outputs": [
    {
     "data": {
      "text/plain": [
       "'nanananananananana, batman!'"
      ]
     },
     "execution_count": 8,
     "metadata": {},
     "output_type": "execute_result"
    }
   ],
   "source": [
    "9 * 'na' + ', batman!'"
   ]
  },
  {
   "cell_type": "markdown",
   "metadata": {},
   "source": [
    "How do you concatenate two lists?"
   ]
  },
  {
   "cell_type": "code",
   "execution_count": 9,
   "metadata": {},
   "outputs": [
    {
     "data": {
      "text/plain": [
       "[1, 2, 3, 4, 5, 6]"
      ]
     },
     "execution_count": 9,
     "metadata": {},
     "output_type": "execute_result"
    }
   ],
   "source": [
    "lst1 = [1,2,3]\n",
    "lst2 = [4,5,6]\n",
    "lst1 + lst2"
   ]
  },
  {
   "cell_type": "markdown",
   "metadata": {},
   "source": [
    "How do you check if a value exists in a list?"
   ]
  },
  {
   "cell_type": "code",
   "execution_count": 10,
   "metadata": {},
   "outputs": [
    {
     "data": {
      "text/plain": [
       "True"
      ]
     },
     "execution_count": 10,
     "metadata": {},
     "output_type": "execute_result"
    }
   ],
   "source": [
    "3 in lst1"
   ]
  },
  {
   "cell_type": "code",
   "execution_count": 11,
   "metadata": {},
   "outputs": [
    {
     "data": {
      "text/plain": [
       "False"
      ]
     },
     "execution_count": 11,
     "metadata": {},
     "output_type": "execute_result"
    }
   ],
   "source": [
    "4 in lst1"
   ]
  },
  {
   "cell_type": "markdown",
   "metadata": {},
   "source": [
    "How do you extract the keys from a dictionary?"
   ]
  },
  {
   "cell_type": "code",
   "execution_count": 12,
   "metadata": {},
   "outputs": [
    {
     "data": {
      "text/plain": [
       "dict_keys(['a', 'b'])"
      ]
     },
     "execution_count": 12,
     "metadata": {},
     "output_type": "execute_result"
    }
   ],
   "source": [
    "d = {'a':1, 'b':2}\n",
    "d.keys()"
   ]
  },
  {
   "cell_type": "markdown",
   "metadata": {},
   "source": [
    "How do you write comments in python code?"
   ]
  },
  {
   "cell_type": "code",
   "execution_count": 13,
   "metadata": {
    "collapsed": true
   },
   "outputs": [],
   "source": [
    "# this is a comment"
   ]
  },
  {
   "cell_type": "markdown",
   "metadata": {},
   "source": [
    "## Intermediate"
   ]
  },
  {
   "cell_type": "markdown",
   "metadata": {},
   "source": [
    "Fizzbuzz: Write out the numbers from 1 to 100, and replace every number that is divisible by 3 by \"Fizz\", every number divisible by 5 by \"Buzz\" and every number that is divisible by both 3 and 5 by \"FizzBuzz\". (Hint: Use the modulo operator % .)"
   ]
  },
  {
   "cell_type": "code",
   "execution_count": 14,
   "metadata": {},
   "outputs": [
    {
     "name": "stdout",
     "output_type": "stream",
     "text": [
      "[1, 2, 'Fizz', 4, 'Buzz', 'Fizz', 7, 8, 'Fizz', 'Buzz', 11, 'Fizz', 13, 14, 'FizzBuzz', 16, 17, 'Fizz', 19, 'Buzz', 'Fizz', 22, 23, 'Fizz', 'Buzz', 26, 'Fizz', 28, 29, 'FizzBuzz', 31, 32, 'Fizz', 34, 'Buzz', 'Fizz', 37, 38, 'Fizz', 'Buzz', 41, 'Fizz', 43, 44, 'FizzBuzz', 46, 47, 'Fizz', 49, 'Buzz', 'Fizz', 52, 53, 'Fizz', 'Buzz', 56, 'Fizz', 58, 59, 'FizzBuzz', 61, 62, 'Fizz', 64, 'Buzz', 'Fizz', 67, 68, 'Fizz', 'Buzz', 71, 'Fizz', 73, 74, 'FizzBuzz', 76, 77, 'Fizz', 79, 'Buzz', 'Fizz', 82, 83, 'Fizz', 'Buzz', 86, 'Fizz', 88, 89, 'FizzBuzz', 91, 92, 'Fizz', 94, 'Buzz', 'Fizz', 97, 98, 'Fizz', 'Buzz']\n"
     ]
    }
   ],
   "source": [
    "out = []\n",
    "for n in range(1,101):\n",
    "    res = n\n",
    "    if n % 3 == 0:\n",
    "        res = 'Fizz'\n",
    "    if n % 5 == 0:\n",
    "        res = 'Buzz'\n",
    "    if n % 3 == 0 and n % 5 == 0:\n",
    "        res = 'FizzBuzz'\n",
    "    out.append(res)\n",
    "print(out)"
   ]
  },
  {
   "cell_type": "markdown",
   "metadata": {},
   "source": [
    "Draw the curve of the function log(x + 10)."
   ]
  },
  {
   "cell_type": "code",
   "execution_count": 2,
   "metadata": {},
   "outputs": [
    {
     "data": {
      "text/plain": [
       "<Figure size 640x480 with 1 Axes>"
      ]
     },
     "metadata": {},
     "output_type": "display_data"
    }
   ],
   "source": [
    "import numpy as np\n",
    "from matplotlib import pyplot as plt\n",
    "x = np.linspace(-10, 100, 1000)[1:]\n",
    "y = np.log(x + 10)\n",
    "plt.plot(x, y, '-')\n",
    "plt.show()"
   ]
  },
  {
   "cell_type": "markdown",
   "metadata": {},
   "source": [
    "Write a function that checks whether a given string is a palindrome."
   ]
  },
  {
   "cell_type": "code",
   "execution_count": 16,
   "metadata": {
    "collapsed": true
   },
   "outputs": [],
   "source": [
    "def is_palindrome(inp):\n",
    "    inp = list(inp)\n",
    "    rev = list(inp)[::-1]\n",
    "    return inp == rev"
   ]
  },
  {
   "cell_type": "code",
   "execution_count": 17,
   "metadata": {},
   "outputs": [
    {
     "data": {
      "text/plain": [
       "True"
      ]
     },
     "execution_count": 17,
     "metadata": {},
     "output_type": "execute_result"
    }
   ],
   "source": [
    "is_palindrome('racecar')"
   ]
  },
  {
   "cell_type": "markdown",
   "metadata": {},
   "source": [
    "How do you create a 3 by 4 matrix filled with random numbers generated from a normal distribution?"
   ]
  },
  {
   "cell_type": "code",
   "execution_count": 18,
   "metadata": {},
   "outputs": [
    {
     "data": {
      "text/plain": [
       "array([[-0.13268639,  0.50624771,  1.07665783,  0.71511666],\n",
       "       [ 0.64123205, -0.48225114, -0.36667439, -0.06965126],\n",
       "       [-1.50157066, -1.64125892,  1.29271411, -0.88930256]])"
      ]
     },
     "execution_count": 18,
     "metadata": {},
     "output_type": "execute_result"
    }
   ],
   "source": [
    "np.random.normal(size=(3,4))"
   ]
  },
  {
   "cell_type": "markdown",
   "metadata": {},
   "source": [
    "What is `mylist[-1]` if mylist is a list containing the numbers 1, 4, 10, and 23?"
   ]
  },
  {
   "cell_type": "code",
   "execution_count": 3,
   "metadata": {},
   "outputs": [
    {
     "data": {
      "text/plain": [
       "23"
      ]
     },
     "execution_count": 3,
     "metadata": {},
     "output_type": "execute_result"
    }
   ],
   "source": [
    "mylist = [1,4,10,23]\n",
    "mylist[-1]"
   ]
  },
  {
   "cell_type": "markdown",
   "metadata": {},
   "source": [
    "What are the main differences between a list and a numpy array?"
   ]
  },
  {
   "cell_type": "markdown",
   "metadata": {},
   "source": [
    "A list can contain mixed data types, but a numpy array has to have elements of the same type. Addition and multiplication operators have different effects on lists and numpy arrays."
   ]
  },
  {
   "cell_type": "markdown",
   "metadata": {},
   "source": [
    "## Advanced"
   ]
  },
  {
   "cell_type": "markdown",
   "metadata": {},
   "source": [
    "99 Bottles: Write a python program that generates the song lyrics to “99 bottles”, i.e. \n",
    "\n",
    "> 99 bottles of beer on the wall, 99 bottles of beer. If one of those bottles should happen to fall, 98 bottles of beer on the wall.\n",
    "\n",
    "> 98 bottles of beer on the wall, 98 bottles of beer. If ... \n",
    "\n",
    "> ... \n",
    "\n",
    "> 2 bottles of beer on the wall, 2 bottles of beer. If one of those bottles should happen to fall, 1 bottle of beer on the wall. \n",
    "\n",
    "> 1 bottle of beer on the wall, 1 bottle of beer. If one of those bottles should happen to fall, no bottles of beer on the wall. "
   ]
  },
  {
   "cell_type": "code",
   "execution_count": 4,
   "metadata": {},
   "outputs": [
    {
     "name": "stdout",
     "output_type": "stream",
     "text": [
      "99 bottles of beer on the wall, 99 bottles of beer. If one of those bottles should happen to fall, 98 bottles of beer on the wall.\n",
      "98 bottles of beer on the wall, 98 bottles of beer. If one of those bottles should happen to fall, 97 bottles of beer on the wall.\n",
      "97 bottles of beer on the wall, 97 bottles of beer. If one of those bottles should happen to fall, 96 bottles of beer on the wall.\n",
      "96 bottles of beer on the wall, 96 bottles of beer. If one of those bottles should happen to fall, 95 bottles of beer on the wall.\n",
      "95 bottles of beer on the wall, 95 bottles of beer. If one of those bottles should happen to fall, 94 bottles of beer on the wall.\n",
      "94 bottles of beer on the wall, 94 bottles of beer. If one of those bottles should happen to fall, 93 bottles of beer on the wall.\n",
      "93 bottles of beer on the wall, 93 bottles of beer. If one of those bottles should happen to fall, 92 bottles of beer on the wall.\n",
      "92 bottles of beer on the wall, 92 bottles of beer. If one of those bottles should happen to fall, 91 bottles of beer on the wall.\n",
      "91 bottles of beer on the wall, 91 bottles of beer. If one of those bottles should happen to fall, 90 bottles of beer on the wall.\n",
      "90 bottles of beer on the wall, 90 bottles of beer. If one of those bottles should happen to fall, 89 bottles of beer on the wall.\n",
      "89 bottles of beer on the wall, 89 bottles of beer. If one of those bottles should happen to fall, 88 bottles of beer on the wall.\n",
      "88 bottles of beer on the wall, 88 bottles of beer. If one of those bottles should happen to fall, 87 bottles of beer on the wall.\n",
      "87 bottles of beer on the wall, 87 bottles of beer. If one of those bottles should happen to fall, 86 bottles of beer on the wall.\n",
      "86 bottles of beer on the wall, 86 bottles of beer. If one of those bottles should happen to fall, 85 bottles of beer on the wall.\n",
      "85 bottles of beer on the wall, 85 bottles of beer. If one of those bottles should happen to fall, 84 bottles of beer on the wall.\n",
      "84 bottles of beer on the wall, 84 bottles of beer. If one of those bottles should happen to fall, 83 bottles of beer on the wall.\n",
      "83 bottles of beer on the wall, 83 bottles of beer. If one of those bottles should happen to fall, 82 bottles of beer on the wall.\n",
      "82 bottles of beer on the wall, 82 bottles of beer. If one of those bottles should happen to fall, 81 bottles of beer on the wall.\n",
      "81 bottles of beer on the wall, 81 bottles of beer. If one of those bottles should happen to fall, 80 bottles of beer on the wall.\n",
      "80 bottles of beer on the wall, 80 bottles of beer. If one of those bottles should happen to fall, 79 bottles of beer on the wall.\n",
      "79 bottles of beer on the wall, 79 bottles of beer. If one of those bottles should happen to fall, 78 bottles of beer on the wall.\n",
      "78 bottles of beer on the wall, 78 bottles of beer. If one of those bottles should happen to fall, 77 bottles of beer on the wall.\n",
      "77 bottles of beer on the wall, 77 bottles of beer. If one of those bottles should happen to fall, 76 bottles of beer on the wall.\n",
      "76 bottles of beer on the wall, 76 bottles of beer. If one of those bottles should happen to fall, 75 bottles of beer on the wall.\n",
      "75 bottles of beer on the wall, 75 bottles of beer. If one of those bottles should happen to fall, 74 bottles of beer on the wall.\n",
      "74 bottles of beer on the wall, 74 bottles of beer. If one of those bottles should happen to fall, 73 bottles of beer on the wall.\n",
      "73 bottles of beer on the wall, 73 bottles of beer. If one of those bottles should happen to fall, 72 bottles of beer on the wall.\n",
      "72 bottles of beer on the wall, 72 bottles of beer. If one of those bottles should happen to fall, 71 bottles of beer on the wall.\n",
      "71 bottles of beer on the wall, 71 bottles of beer. If one of those bottles should happen to fall, 70 bottles of beer on the wall.\n",
      "70 bottles of beer on the wall, 70 bottles of beer. If one of those bottles should happen to fall, 69 bottles of beer on the wall.\n",
      "69 bottles of beer on the wall, 69 bottles of beer. If one of those bottles should happen to fall, 68 bottles of beer on the wall.\n",
      "68 bottles of beer on the wall, 68 bottles of beer. If one of those bottles should happen to fall, 67 bottles of beer on the wall.\n",
      "67 bottles of beer on the wall, 67 bottles of beer. If one of those bottles should happen to fall, 66 bottles of beer on the wall.\n",
      "66 bottles of beer on the wall, 66 bottles of beer. If one of those bottles should happen to fall, 65 bottles of beer on the wall.\n",
      "65 bottles of beer on the wall, 65 bottles of beer. If one of those bottles should happen to fall, 64 bottles of beer on the wall.\n",
      "64 bottles of beer on the wall, 64 bottles of beer. If one of those bottles should happen to fall, 63 bottles of beer on the wall.\n",
      "63 bottles of beer on the wall, 63 bottles of beer. If one of those bottles should happen to fall, 62 bottles of beer on the wall.\n",
      "62 bottles of beer on the wall, 62 bottles of beer. If one of those bottles should happen to fall, 61 bottles of beer on the wall.\n",
      "61 bottles of beer on the wall, 61 bottles of beer. If one of those bottles should happen to fall, 60 bottles of beer on the wall.\n",
      "60 bottles of beer on the wall, 60 bottles of beer. If one of those bottles should happen to fall, 59 bottles of beer on the wall.\n",
      "59 bottles of beer on the wall, 59 bottles of beer. If one of those bottles should happen to fall, 58 bottles of beer on the wall.\n",
      "58 bottles of beer on the wall, 58 bottles of beer. If one of those bottles should happen to fall, 57 bottles of beer on the wall.\n",
      "57 bottles of beer on the wall, 57 bottles of beer. If one of those bottles should happen to fall, 56 bottles of beer on the wall.\n",
      "56 bottles of beer on the wall, 56 bottles of beer. If one of those bottles should happen to fall, 55 bottles of beer on the wall.\n",
      "55 bottles of beer on the wall, 55 bottles of beer. If one of those bottles should happen to fall, 54 bottles of beer on the wall.\n",
      "54 bottles of beer on the wall, 54 bottles of beer. If one of those bottles should happen to fall, 53 bottles of beer on the wall.\n",
      "53 bottles of beer on the wall, 53 bottles of beer. If one of those bottles should happen to fall, 52 bottles of beer on the wall.\n",
      "52 bottles of beer on the wall, 52 bottles of beer. If one of those bottles should happen to fall, 51 bottles of beer on the wall.\n",
      "51 bottles of beer on the wall, 51 bottles of beer. If one of those bottles should happen to fall, 50 bottles of beer on the wall.\n",
      "50 bottles of beer on the wall, 50 bottles of beer. If one of those bottles should happen to fall, 49 bottles of beer on the wall.\n",
      "49 bottles of beer on the wall, 49 bottles of beer. If one of those bottles should happen to fall, 48 bottles of beer on the wall.\n",
      "48 bottles of beer on the wall, 48 bottles of beer. If one of those bottles should happen to fall, 47 bottles of beer on the wall.\n",
      "47 bottles of beer on the wall, 47 bottles of beer. If one of those bottles should happen to fall, 46 bottles of beer on the wall.\n",
      "46 bottles of beer on the wall, 46 bottles of beer. If one of those bottles should happen to fall, 45 bottles of beer on the wall.\n",
      "45 bottles of beer on the wall, 45 bottles of beer. If one of those bottles should happen to fall, 44 bottles of beer on the wall.\n",
      "44 bottles of beer on the wall, 44 bottles of beer. If one of those bottles should happen to fall, 43 bottles of beer on the wall.\n",
      "43 bottles of beer on the wall, 43 bottles of beer. If one of those bottles should happen to fall, 42 bottles of beer on the wall.\n",
      "42 bottles of beer on the wall, 42 bottles of beer. If one of those bottles should happen to fall, 41 bottles of beer on the wall.\n",
      "41 bottles of beer on the wall, 41 bottles of beer. If one of those bottles should happen to fall, 40 bottles of beer on the wall.\n",
      "40 bottles of beer on the wall, 40 bottles of beer. If one of those bottles should happen to fall, 39 bottles of beer on the wall.\n",
      "39 bottles of beer on the wall, 39 bottles of beer. If one of those bottles should happen to fall, 38 bottles of beer on the wall.\n",
      "38 bottles of beer on the wall, 38 bottles of beer. If one of those bottles should happen to fall, 37 bottles of beer on the wall.\n",
      "37 bottles of beer on the wall, 37 bottles of beer. If one of those bottles should happen to fall, 36 bottles of beer on the wall.\n",
      "36 bottles of beer on the wall, 36 bottles of beer. If one of those bottles should happen to fall, 35 bottles of beer on the wall.\n",
      "35 bottles of beer on the wall, 35 bottles of beer. If one of those bottles should happen to fall, 34 bottles of beer on the wall.\n",
      "34 bottles of beer on the wall, 34 bottles of beer. If one of those bottles should happen to fall, 33 bottles of beer on the wall.\n",
      "33 bottles of beer on the wall, 33 bottles of beer. If one of those bottles should happen to fall, 32 bottles of beer on the wall.\n",
      "32 bottles of beer on the wall, 32 bottles of beer. If one of those bottles should happen to fall, 31 bottles of beer on the wall.\n",
      "31 bottles of beer on the wall, 31 bottles of beer. If one of those bottles should happen to fall, 30 bottles of beer on the wall.\n",
      "30 bottles of beer on the wall, 30 bottles of beer. If one of those bottles should happen to fall, 29 bottles of beer on the wall.\n",
      "29 bottles of beer on the wall, 29 bottles of beer. If one of those bottles should happen to fall, 28 bottles of beer on the wall.\n",
      "28 bottles of beer on the wall, 28 bottles of beer. If one of those bottles should happen to fall, 27 bottles of beer on the wall.\n",
      "27 bottles of beer on the wall, 27 bottles of beer. If one of those bottles should happen to fall, 26 bottles of beer on the wall.\n",
      "26 bottles of beer on the wall, 26 bottles of beer. If one of those bottles should happen to fall, 25 bottles of beer on the wall.\n",
      "25 bottles of beer on the wall, 25 bottles of beer. If one of those bottles should happen to fall, 24 bottles of beer on the wall.\n",
      "24 bottles of beer on the wall, 24 bottles of beer. If one of those bottles should happen to fall, 23 bottles of beer on the wall.\n",
      "23 bottles of beer on the wall, 23 bottles of beer. If one of those bottles should happen to fall, 22 bottles of beer on the wall.\n",
      "22 bottles of beer on the wall, 22 bottles of beer. If one of those bottles should happen to fall, 21 bottles of beer on the wall.\n",
      "21 bottles of beer on the wall, 21 bottles of beer. If one of those bottles should happen to fall, 20 bottles of beer on the wall.\n",
      "20 bottles of beer on the wall, 20 bottles of beer. If one of those bottles should happen to fall, 19 bottles of beer on the wall.\n",
      "19 bottles of beer on the wall, 19 bottles of beer. If one of those bottles should happen to fall, 18 bottles of beer on the wall.\n",
      "18 bottles of beer on the wall, 18 bottles of beer. If one of those bottles should happen to fall, 17 bottles of beer on the wall.\n",
      "17 bottles of beer on the wall, 17 bottles of beer. If one of those bottles should happen to fall, 16 bottles of beer on the wall.\n",
      "16 bottles of beer on the wall, 16 bottles of beer. If one of those bottles should happen to fall, 15 bottles of beer on the wall.\n",
      "15 bottles of beer on the wall, 15 bottles of beer. If one of those bottles should happen to fall, 14 bottles of beer on the wall.\n",
      "14 bottles of beer on the wall, 14 bottles of beer. If one of those bottles should happen to fall, 13 bottles of beer on the wall.\n",
      "13 bottles of beer on the wall, 13 bottles of beer. If one of those bottles should happen to fall, 12 bottles of beer on the wall.\n",
      "12 bottles of beer on the wall, 12 bottles of beer. If one of those bottles should happen to fall, 11 bottles of beer on the wall.\n",
      "11 bottles of beer on the wall, 11 bottles of beer. If one of those bottles should happen to fall, 10 bottles of beer on the wall.\n",
      "10 bottles of beer on the wall, 10 bottles of beer. If one of those bottles should happen to fall, 9 bottles of beer on the wall.\n",
      "9 bottles of beer on the wall, 9 bottles of beer. If one of those bottles should happen to fall, 8 bottles of beer on the wall.\n",
      "8 bottles of beer on the wall, 8 bottles of beer. If one of those bottles should happen to fall, 7 bottles of beer on the wall.\n",
      "7 bottles of beer on the wall, 7 bottles of beer. If one of those bottles should happen to fall, 6 bottles of beer on the wall.\n",
      "6 bottles of beer on the wall, 6 bottles of beer. If one of those bottles should happen to fall, 5 bottles of beer on the wall.\n",
      "5 bottles of beer on the wall, 5 bottles of beer. If one of those bottles should happen to fall, 4 bottles of beer on the wall.\n",
      "4 bottles of beer on the wall, 4 bottles of beer. If one of those bottles should happen to fall, 3 bottles of beer on the wall.\n",
      "3 bottles of beer on the wall, 3 bottles of beer. If one of those bottles should happen to fall, 2 bottles of beer on the wall.\n",
      "2 bottles of beer on the wall, 2 bottles of beer. If one of those bottles should happen to fall, 1 bottles of beer on the wall.\n",
      "1 bottles of beer on the wall, 1 bottles of beer. If one of those bottles should happen to fall, 0 bottles of beer on the wall.\n"
     ]
    }
   ],
   "source": [
    "# this is a simplified version. Use conditionals to get the last 2 lines right.\n",
    "for i in range(99,0,-1):\n",
    "    print(str(i) + ' bottles of beer on the wall, ' + str(i) +\n",
    "      ' bottles of beer. If one of those bottles should happen to fall, ' +\n",
    "    str(i-1) + ' bottles of beer on the wall.')"
   ]
  },
  {
   "cell_type": "markdown",
   "metadata": {},
   "source": [
    "An alternative approach is to create a function which recursively calls itself until only one bottle remains."
   ]
  },
  {
   "cell_type": "code",
   "execution_count": 5,
   "metadata": {},
   "outputs": [],
   "source": [
    "base_string = \"bottles of beer\"\n",
    "wall_string = \"on the wall\"\n",
    "\n",
    "# create separate function to print one line of lyrics for clarity\n",
    "def print_one_line_lyrics(nbottles):\n",
    "    if nbottles > 1:\n",
    "        print(str(nbottles), base_string, wall_string,\n",
    "              str(nbottles), base_string)\n",
    "    else:\n",
    "        print(str(nbottles), \"bottle of beer on the wall, \",\n",
    "              str(nbottles), \"bottle of beer\")\n",
    "\n",
    "def print_bottles_lyrics(nbottles):\n",
    "    if nbottles > 1:\n",
    "        print_one_line_lyrics(nbottles)\n",
    "        print_bottles_lyrics(nbottles - 1)\n",
    "    else:\n",
    "        print_one_line_lyrics(nbottles)"
   ]
  },
  {
   "cell_type": "code",
   "execution_count": 4,
   "metadata": {},
   "outputs": [
    {
     "name": "stdout",
     "output_type": "stream",
     "text": [
      "10 bottles of beer on the wall 10 bottles of beer\n",
      "9 bottles of beer on the wall 9 bottles of beer\n",
      "8 bottles of beer on the wall 8 bottles of beer\n",
      "7 bottles of beer on the wall 7 bottles of beer\n",
      "6 bottles of beer on the wall 6 bottles of beer\n",
      "5 bottles of beer on the wall 5 bottles of beer\n",
      "4 bottles of beer on the wall 4 bottles of beer\n",
      "3 bottles of beer on the wall 3 bottles of beer\n",
      "2 bottles of beer on the wall 2 bottles of beer\n",
      "1 bottle of beer on the wall,  1 bottle of beer\n"
     ]
    }
   ],
   "source": [
    "print_bottles_lyrics(10)"
   ]
  },
  {
   "cell_type": "markdown",
   "metadata": {},
   "source": [
    "Write a function to calculate the median of a list of numbers?"
   ]
  },
  {
   "cell_type": "code",
   "execution_count": 5,
   "metadata": {
    "collapsed": true
   },
   "outputs": [],
   "source": [
    "# the median is the value in the middle of the ordered list;\n",
    "# if the list has an even number of elements, return the average of the middle two values\n",
    "def median(arr):\n",
    "    arr.sort()\n",
    "    n = len(arr)\n",
    "    if n % 2 == 1:\n",
    "        return arr[(n-1) // 2]\n",
    "    else:\n",
    "        return 0.5 * (arr[n // 2 - 1] + arr[n // 2])"
   ]
  },
  {
   "cell_type": "code",
   "execution_count": 22,
   "metadata": {},
   "outputs": [
    {
     "data": {
      "text/plain": [
       "2.5"
      ]
     },
     "execution_count": 22,
     "metadata": {},
     "output_type": "execute_result"
    }
   ],
   "source": [
    "median([1,5,2,3])"
   ]
  },
  {
   "cell_type": "code",
   "execution_count": 23,
   "metadata": {},
   "outputs": [
    {
     "data": {
      "text/plain": [
       "6"
      ]
     },
     "execution_count": 23,
     "metadata": {},
     "output_type": "execute_result"
    }
   ],
   "source": [
    "median([4,1,7,6,9])"
   ]
  }
 ],
 "metadata": {
  "kernelspec": {
   "display_name": "Python 3 (ipykernel)",
   "language": "python",
   "name": "python3"
  },
  "language_info": {
   "codemirror_mode": {
    "name": "ipython",
    "version": 3
   },
   "file_extension": ".py",
   "mimetype": "text/x-python",
   "name": "python",
   "nbconvert_exporter": "python",
   "pygments_lexer": "ipython3",
   "version": "3.9.13"
  }
 },
 "nbformat": 4,
 "nbformat_minor": 4
}
